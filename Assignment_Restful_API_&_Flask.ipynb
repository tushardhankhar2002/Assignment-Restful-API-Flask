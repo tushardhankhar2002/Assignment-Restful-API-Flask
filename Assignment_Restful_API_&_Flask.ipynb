{
  "nbformat": 4,
  "nbformat_minor": 0,
  "metadata": {
    "colab": {
      "provenance": []
    },
    "kernelspec": {
      "name": "python3",
      "display_name": "Python 3"
    },
    "language_info": {
      "name": "python"
    }
  },
  "cells": [
    {
      "cell_type": "markdown",
      "source": [
        "**Assignment : Restful API & Flask**\n",
        "\n",
        "\n"
      ],
      "metadata": {
        "id": "nbgK_yePV1j3"
      }
    },
    {
      "cell_type": "markdown",
      "source": [
        "\n",
        "\n",
        "**1. What is a RESTful API?**\n",
        "\n",
        "A RESTful API is a web service that uses HTTP methods like GET, POST, PUT, and DELETE to perform operations on resources, following REST architecture principles. It typically returns data in JSON or XML format.\n",
        "\n",
        "**2. Explain the concept of API specification.**\n",
        "\n",
        "An API specification is a formal document that defines how an API works, including its endpoints, request/response formats, authentication methods, and error handling. It helps developers understand and use the API correctly.\n",
        "\n",
        "**3. What is Flask, and why is it popular for building APIs?**\n",
        "\n",
        "Flask is a lightweight and flexible Python web framework. It is popular for building APIs due to its simplicity, minimal setup, and a large number of available extensions.\n",
        "\n",
        "**4. What is routing in Flask?**\n",
        "\n",
        "Routing in Flask is the process of mapping URLs to functions using the `@app.route()` decorator. It allows the application to respond to different web requests.\n",
        "\n",
        "**5. How do you create a simple Flask application?**\n",
        "\n",
        "A simple Flask application is created by importing Flask, initializing the app, defining a route with `@app.route()`, and running the app using `app.run()`.\n",
        "\n",
        "**6. What are HTTP methods used in RESTful APIs?**\n",
        "\n",
        "The common HTTP methods are GET, POST, PUT, DELETE, PATCH, and OPTIONS. Each method performs a specific action on the resources.\n",
        "\n",
        "**7. What is the purpose of the @app.route() decorator in Flask?**\n",
        "\n",
        "The `@app.route()` decorator is used to bind a specific URL to a function, allowing Flask to handle incoming requests to that URL.\n",
        "\n",
        "**8. What is the difference between GET and POST HTTP methods?**\n",
        "\n",
        "GET is used to request data from the server and does not change the data. POST is used to send data to the server to create or update resources.\n",
        "\n",
        "**9. How do you handle errors in Flask APIs?**\n",
        "\n",
        "Errors in Flask can be handled using custom error handler functions with decorators like `@app.errorhandler(404)` to return appropriate responses for errors.\n",
        "\n",
        "**10. How do you connect Flask to a SQL database?**\n",
        "\n",
        "Flask can connect to SQL databases using libraries like Flask-SQLAlchemy, which provides an ORM interface for interacting with databases.\n",
        "\n",
        "**11. What is the role of Flask-SQLAlchemy?**\n",
        "\n",
        "Flask-SQLAlchemy is an extension that integrates SQLAlchemy with Flask and simplifies database operations like defining models and querying data.\n",
        "\n",
        "**12. What are Flask blueprints, and how are they useful?**\n",
        "\n",
        "Blueprints in Flask are a way to organize routes and functionality into modular components, making it easier to manage large applications.\n",
        "\n",
        "**13. What is the purpose of Flask's request object?**\n",
        "\n",
        "The `request` object in Flask is used to access data sent with the request, such as form inputs, query parameters, and JSON payloads.\n",
        "\n",
        "**14. How do you create a RESTful API endpoint using Flask?**\n",
        "\n",
        "A RESTful API endpoint in Flask is created by defining a route with `@app.route()` and specifying the HTTP method, then writing a function to return the desired response.\n",
        "\n",
        "**15. What is the purpose of Flask's jsonify() function?**\n",
        "\n",
        "The `jsonify()` function converts Python dictionaries and lists into JSON format and returns them as an HTTP response with the correct content type.\n",
        "\n",
        "**16. Explain Flask’s url\\_for() function.**\n",
        "\n",
        "The `url_for()` function generates a URL for a given function name (endpoint), helping avoid hardcoding URLs in templates or code.\n",
        "\n",
        "**17. How does Flask handle static files (CSS, JavaScript, etc.)?**\n",
        "\n",
        "Flask serves static files from the `static` directory. These files can be accessed in the browser using the `/static/filename` URL.\n",
        "\n",
        "**18. What is an API specification, and how does it help in building a Flask API?**\n",
        "\n",
        "An API specification provides a blueprint for the structure and behavior of an API. It helps developers understand the endpoints, data formats, and expected behavior, ensuring consistency in development.\n",
        "\n",
        "**19. What are HTTP status codes, and why are they important in a Flask API?**\n",
        "\n",
        "HTTP status codes are numeric responses that indicate the result of an HTTP request, such as 200 (OK), 404 (Not Found), and 500 (Server Error). They help the client understand the outcome of the request.\n",
        "\n",
        "**20. How do you handle POST requests in Flask?**\n",
        "\n",
        "POST requests in Flask are handled by defining a route with the `POST` method and using the `request` object to access submitted data.\n",
        "\n",
        "**21. How would you secure a Flask API?**\n",
        "\n",
        "To secure a Flask API, use HTTPS, input validation, authentication (like JWT or OAuth), rate limiting, and prevent common vulnerabilities like SQL injection and XSS.\n",
        "\n",
        "**22. What is the significance of the Flask-RESTful extension?**\n",
        "\n",
        "Flask-RESTful is an extension that makes it easier to build REST APIs with Flask by providing class-based views and request parsing.\n",
        "\n",
        "**23. What is the role of Flask’s session object?**\n",
        "\n",
        "The `session` object in Flask is used to store data that is specific to a user session, such as login status, across multiple requests using secure cookies.\n",
        "\n",
        "\n"
      ],
      "metadata": {
        "id": "xpjz36F4U_5Q"
      }
    },
    {
      "cell_type": "code",
      "source": [],
      "metadata": {
        "id": "lr2HvV05VUuV"
      },
      "execution_count": null,
      "outputs": []
    },
    {
      "cell_type": "markdown",
      "source": [
        "Practical"
      ],
      "metadata": {
        "id": "AIAvYEWOWF4b"
      }
    },
    {
      "cell_type": "markdown",
      "source": [
        "1. How do you create a basic Flask application?"
      ],
      "metadata": {
        "id": "RDfr4hQrWHhl"
      }
    },
    {
      "cell_type": "code",
      "source": [
        "from flask import Flask\n",
        "\n",
        "app = Flask(__name__)\n",
        "\n",
        "@app.route('/')\n",
        "def home():\n",
        "    return \"Hello, Flask!\"\n",
        "\n",
        "if __name__ == '__main__':\n",
        "    app.run(debug=True)\n"
      ],
      "metadata": {
        "colab": {
          "base_uri": "https://localhost:8080/"
        },
        "id": "_1XErQN1WITK",
        "outputId": "fe6b4bba-787d-4a99-99d7-0e0c68a5592e"
      },
      "execution_count": 1,
      "outputs": [
        {
          "output_type": "stream",
          "name": "stdout",
          "text": [
            " * Serving Flask app '__main__'\n",
            " * Debug mode: on\n"
          ]
        },
        {
          "output_type": "stream",
          "name": "stderr",
          "text": [
            "INFO:werkzeug:\u001b[31m\u001b[1mWARNING: This is a development server. Do not use it in a production deployment. Use a production WSGI server instead.\u001b[0m\n",
            " * Running on http://127.0.0.1:5000\n",
            "INFO:werkzeug:\u001b[33mPress CTRL+C to quit\u001b[0m\n",
            "INFO:werkzeug: * Restarting with stat\n"
          ]
        }
      ]
    },
    {
      "cell_type": "markdown",
      "source": [
        "2. How do you serve static files like images or CSS in Flask?"
      ],
      "metadata": {
        "id": "tPFim3qAWRLc"
      }
    },
    {
      "cell_type": "code",
      "source": [
        "<link rel=\"stylesheet\" href=\"{{ url_for('static', filename='style.css') }}\">\n",
        "\n"
      ],
      "metadata": {
        "id": "VNciW1vxWTOa"
      },
      "execution_count": 2,
      "outputs": []
    },
    {
      "cell_type": "markdown",
      "source": [
        "3. How do you define different routes with different HTTP methods in Flask?"
      ],
      "metadata": {
        "id": "dIo5GC53Wctb"
      }
    },
    {
      "cell_type": "code",
      "source": [
        "@app.route('/submit', methods=['GET', 'POST'])\n",
        "def submit():\n",
        "    if request.method == 'POST':\n",
        "        return \"Data submitted\"\n",
        "    return \"Submit form\"\n"
      ],
      "metadata": {
        "id": "4sBjeEtGWfxv"
      },
      "execution_count": null,
      "outputs": []
    },
    {
      "cell_type": "markdown",
      "source": [
        "4. How do you render HTML templates in Flask?"
      ],
      "metadata": {
        "id": "kqAmzbxrWhxF"
      }
    },
    {
      "cell_type": "code",
      "source": [
        "from flask import render_template\n",
        "\n",
        "@app.route('/about')\n",
        "def about():\n",
        "    return render_template('about.html')\n"
      ],
      "metadata": {
        "id": "zteyLqdVWn9D"
      },
      "execution_count": null,
      "outputs": []
    },
    {
      "cell_type": "markdown",
      "source": [
        "5. How can you generate URLs for routes in Flask using url_for?"
      ],
      "metadata": {
        "id": "bavVnEMYWp0V"
      }
    },
    {
      "cell_type": "code",
      "source": [
        "from flask import url_for\n",
        "\n",
        "@app.route('/')\n",
        "def index():\n",
        "    return f\"Go to about page: {url_for('about')}\"\n"
      ],
      "metadata": {
        "id": "g6iqatldWuA2"
      },
      "execution_count": null,
      "outputs": []
    },
    {
      "cell_type": "markdown",
      "source": [
        "6. How do you handle forms in Flask?"
      ],
      "metadata": {
        "id": "2sWdS3Z2Wv6C"
      }
    },
    {
      "cell_type": "code",
      "source": [
        "from flask import request\n",
        "\n",
        "@app.route('/login', methods=['POST'])\n",
        "def login():\n",
        "    username = request.form['username']\n",
        "    password = request.form['password']\n",
        "    return f\"Welcome {username}\"\n"
      ],
      "metadata": {
        "id": "YrF3zG4yWyWi"
      },
      "execution_count": null,
      "outputs": []
    },
    {
      "cell_type": "markdown",
      "source": [
        "7. How can you validate form data in Flask?"
      ],
      "metadata": {
        "id": "qfBKo0ZSW0Q_"
      }
    },
    {
      "cell_type": "code",
      "source": [
        "@app.route('/register', methods=['POST'])\n",
        "def register():\n",
        "    email = request.form.get('email')\n",
        "    if not email:\n",
        "        return \"Email is required\"\n",
        "    return \"Registered\"\n"
      ],
      "metadata": {
        "id": "nyStQGRIW4LC"
      },
      "execution_count": null,
      "outputs": []
    },
    {
      "cell_type": "markdown",
      "source": [
        "8. How do you manage sessions in Flask?"
      ],
      "metadata": {
        "id": "IbDmvV54W7Q3"
      }
    },
    {
      "cell_type": "code",
      "source": [
        "from flask import session\n",
        "\n",
        "app.secret_key = 'secret'\n",
        "\n",
        "@app.route('/set')\n",
        "def set_session():\n",
        "    session['user'] = 'John'\n",
        "    return 'Session set'\n",
        "\n",
        "@app.route('/get')\n",
        "def get_session():\n",
        "    return session.get('user', 'Not set')\n"
      ],
      "metadata": {
        "id": "Ip3CzA35XAw1"
      },
      "execution_count": null,
      "outputs": []
    },
    {
      "cell_type": "markdown",
      "source": [
        "9. How do you redirect to a different route in Flask?"
      ],
      "metadata": {
        "id": "1yJRPglBXDLz"
      }
    },
    {
      "cell_type": "code",
      "source": [
        "from flask import redirect, url_for\n",
        "\n",
        "@app.route('/go')\n",
        "def go():\n",
        "    return redirect(url_for('home'))\n"
      ],
      "metadata": {
        "id": "b82imdbYXGd9"
      },
      "execution_count": null,
      "outputs": []
    },
    {
      "cell_type": "markdown",
      "source": [
        "10. How do you handle errors in Flask (e.g., 404)?"
      ],
      "metadata": {
        "id": "MfGaKhq2XJ9a"
      }
    },
    {
      "cell_type": "code",
      "source": [
        "@app.errorhandler(404)\n",
        "def page_not_found(e):\n",
        "    return \"Page not found\", 404\n"
      ],
      "metadata": {
        "id": "JCCRzCpNXMZH"
      },
      "execution_count": null,
      "outputs": []
    },
    {
      "cell_type": "markdown",
      "source": [
        "11. How do you structure a Flask app using Blueprints?"
      ],
      "metadata": {
        "id": "_YMyGt6IXPLO"
      }
    },
    {
      "cell_type": "code",
      "source": [
        "# In user.py\n",
        "from flask import Blueprint\n",
        "\n",
        "user_bp = Blueprint('user', __name__)\n",
        "\n",
        "@user_bp.route('/profile')\n",
        "def profile():\n",
        "    return \"User Profile\"\n",
        "\n",
        "# In main app\n",
        "from user import user_bp\n",
        "app.register_blueprint(user_bp)\n"
      ],
      "metadata": {
        "id": "0788CSEeXQ_8"
      },
      "execution_count": null,
      "outputs": []
    },
    {
      "cell_type": "markdown",
      "source": [
        "12. How do you define a custom Jinja filter in Flask?"
      ],
      "metadata": {
        "id": "i_YcsVCAXTGk"
      }
    },
    {
      "cell_type": "code",
      "source": [
        "@app.template_filter('capitalize')\n",
        "def capitalize_filter(s):\n",
        "    return s.capitalize()\n"
      ],
      "metadata": {
        "id": "aElNWYguXVXp"
      },
      "execution_count": null,
      "outputs": []
    },
    {
      "cell_type": "markdown",
      "source": [
        "13. How can you redirect with query parameters in Flask?\n"
      ],
      "metadata": {
        "id": "4_H3FViAXase"
      }
    },
    {
      "cell_type": "code",
      "source": [
        "@app.route('/redirect')\n",
        "def redirect_example():\n",
        "    return redirect(url_for('hello', name='John'))\n",
        "\n",
        "@app.route('/hello')\n",
        "def hello():\n",
        "    name = request.args.get('name')\n",
        "    return f\"Hello {name}\"\n"
      ],
      "metadata": {
        "id": "006N-joJXdM3"
      },
      "execution_count": null,
      "outputs": []
    },
    {
      "cell_type": "markdown",
      "source": [
        "14. How do you return JSON responses in Flask?\n"
      ],
      "metadata": {
        "id": "kAk_t3GfXeb1"
      }
    },
    {
      "cell_type": "code",
      "source": [
        "from flask import jsonify\n",
        "\n",
        "@app.route('/data')\n",
        "def data():\n",
        "    return jsonify({'name': 'Alice', 'age': 30})\n"
      ],
      "metadata": {
        "id": "sV0bswKCXiJy"
      },
      "execution_count": null,
      "outputs": []
    },
    {
      "cell_type": "markdown",
      "source": [
        "15. How do you capture URL parameters in Flask?\n"
      ],
      "metadata": {
        "id": "kp-kHcJMXkDJ"
      }
    },
    {
      "cell_type": "code",
      "source": [
        "@app.route('/user/<username>')\n",
        "def user_profile(username):\n",
        "    return f\"Profile of {username}\"\n"
      ],
      "metadata": {
        "id": "7-Zl2IIjYcOL"
      },
      "execution_count": null,
      "outputs": []
    }
  ]
}